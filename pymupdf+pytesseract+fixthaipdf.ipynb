{
  "nbformat": 4,
  "nbformat_minor": 0,
  "metadata": {
    "colab": {
      "provenance": [],
      "collapsed_sections": [
        "UpmMssPzaNpz",
        "dvyX2w8WaUkw",
        "5epHWoUxaRdi"
      ],
      "authorship_tag": "ABX9TyMTyLbN+yCKf6rMwNu2f0A2",
      "include_colab_link": true
    },
    "kernelspec": {
      "name": "python3",
      "display_name": "Python 3"
    },
    "language_info": {
      "name": "python"
    }
  },
  "cells": [
    {
      "cell_type": "markdown",
      "metadata": {
        "id": "view-in-github",
        "colab_type": "text"
      },
      "source": [
        "<a href=\"https://colab.research.google.com/github/trajectories/thaipdf/blob/main/pymupdf%2Bpytesseract%2Bfixthaipdf.ipynb\" target=\"_parent\"><img src=\"https://colab.research.google.com/assets/colab-badge.svg\" alt=\"Open In Colab\"/></a>"
      ]
    },
    {
      "cell_type": "code",
      "execution_count": null,
      "metadata": {
        "id": "yQRJyc5iRQtR"
      },
      "outputs": [],
      "source": [
        "!pip install PyMuPDF pythainlp>4.0"
      ]
    },
    {
      "cell_type": "markdown",
      "source": [
        "#fixthaipdf"
      ],
      "metadata": {
        "id": "UpmMssPzaNpz"
      }
    },
    {
      "cell_type": "code",
      "source": [
        "# -*- coding: utf-8 -*-\n",
        "\"\"\"\n",
        "Copyright 2023 Wannaphong Phatthiyaphaibun\n",
        "\n",
        "Licensed under the Apache License, Version 2.0 (the \"License\");\n",
        "you may not use this file except in compliance with the License.\n",
        "You may obtain a copy of the License at\n",
        "\n",
        "    http://www.apache.org/licenses/LICENSE-2.0\n",
        "\n",
        "Unless required by applicable law or agreed to in writing, software\n",
        "distributed under the License is distributed on an \"AS IS\" BASIS,\n",
        "WITHOUT WARRANTIES OR CONDITIONS OF ANY KIND, either express or implied.\n",
        "See the License for the specific language governing permissions and\n",
        "limitations under the License.\n",
        "\"\"\"\n",
        "replace_list=[\n",
        "    (\"\", \"<=\"),\n",
        "    (\"ล ้า\",\"ลํ้า\"),\n",
        "    (\"ต ่า\",\"ตํ่า\"),\n",
        "    (\"ค ่า\",\"คํ่า\"),\n",
        "    (\"ค ้า\",\"คํ้า\"),\n",
        "    (\"ห รือ\",\"หรือ\"),\n",
        "    (\"ต ร์\",\"ตร์\"),\n",
        "    (\"น ้า\",\"นํ้า\"),\n",
        "    (\" า\",\"ำ\"),  # ำ\n",
        "    (\"แด ง\",\"แดง\"),\n",
        "    (\"ไ ด้\",\"ได้\"),\n",
        "    (\"\",\"้\"),\n",
        "    (\"ทรัพย์้\",\"ทรัพย์\"),\n",
        "    (\"ห่ ม\",\"ห่ม\"),\n",
        "    (\"ปัจจุ บัน\",\"ปัจจุบัน\"),\n",
        "    (\" ู่\",\"ู่\"),\n",
        "    (\"รา ม\",\"ราม\"),\n",
        "    (\"อำคำร\",\"อาคาร\"),\n",
        "    (\"อำศัย\",\"อาศัย\"),\n",
        "    (\"ข้ อ\",\"ข้อ\"),\n",
        "    (\"ตำม\",\"ตาม\"),\n",
        "    (\"ควำม\",\"ความ\"),\n",
        "    (\"มำตรำ\",\"มาตรา\"),\n",
        "    (\"พระรำช\",\"พระราช\"),\n",
        "    (\"ว่ำ\",\"ว่า\"),\n",
        "    (\"กำร\",\"การ\"),\n",
        "    (\"มหำด\",\"มหาด\"),\n",
        "    (\"ภำยใน\",\"ภายใน\"),\n",
        "    (\"มำ\",\"มา\"),\n",
        "    (\"หำ\",\"หา\"),\n",
        "    (\"อนุญำต\",\"อนุญาต\"),\n",
        "    (\"เผ่ำจินดำ\",\"เผ่าจินดา\"),\n",
        "    (\"ป ระชุม\",\"ประชุม\"),\n",
        "    (\"พิจาร ณา\",\"พิจารณา\"),\n",
        "    (\"กรรมา ธิการ\",\"กรรมาธิการ\"),\n",
        "    (\"จิตฟ้น\",\"จิตฟั่น\"),\n",
        "    (\"โท ษ\",\"โทษ\"),\n",
        "    (\"เรื่ อง\",\"เรื่อง\"),\n",
        "    (\"เกษ ตร\",\"เกษตร\"),\n",
        "    (\"ศึกษำ\",\"ศึกษา\"),\n",
        "    (\"หน้ำ\",\"หน้า\"),\n",
        "    (\"อำจ\",\"อาจ\"),\n",
        "    (\"ขำด\",\"ขาด\"),\n",
        "    (\"รำชการ\",\"ราชการ\"),\n",
        "    (\"เจ้ำ\",\"เจ้า\"),\n",
        "    (\"การงำน\",\"การงาน\"),\n",
        "    (\"ทำงำน\",\"ทำงาน\"),\n",
        "    (\"สำธำรณะ\",\"สาธารณะ\"),\n",
        "    (\"รำชทัณฑ์\",\"ราชทัณฑ์\"),\n",
        "    (\"ก้ำว\",\"ก้าว\"),\n",
        "    (\"ทำง\",\"ทาง\"),\n",
        "    (\"รำช\",\"ราช\"),\n",
        "    (\"วิชำ\",\"วิชา\"),\n",
        "    (\"กำร\",\"การ\"),\n",
        "    (\"พฤติกำรณ์\",\"พฤติการณ์\"),\n",
        "    (\"สถำน\",\"สถาน\"),\n",
        "    (\"น้อยก ว่า\",\"น้อยกว่า\"),\n",
        "    (\"กา ร\",\"การ\"),\n",
        "    (\"ก ว่า\",\"กว่า\"),\n",
        "    (\"ชั้ น\",\"ชั้น\"),\n",
        "    (\"แล้ ว\",\"แล้ว\"),\n",
        "    (\"ห มาย\",\"หมาย\"),\n",
        "    (\"ปัจ จัย\",\"ปัจจัย\"),\n",
        "    (\"ม ูล\",\"ม ูล\"),\n",
        "    (\"สุ ทิดา\",\"สุทิดา\"),\n",
        "    (\"๒๕๖2\",\"๒๕๖๒\"),\n",
        "    (\"สา มารถ\",\"สามารถ\"),\n",
        "    (\"หลว ง\",\"หลวง\"),\n",
        "    (\"เผ ยแพร่\",\"เผยแพร่\"),\n",
        "    (\"ขอ ง\",\"ของ\"),\n",
        "    (\"อ นุญาต\",\"อนุญาต\"),\n",
        "    (\"อานำจ\",\"อำนาจ\"),\n",
        "    (\"ทุ น\",\"ทุน\"),\n",
        "    (\"ตรวจ สอบ\",\"ตรวจสอบ\"),\n",
        "    (\"รู ปแบบ\",\"รูปแบบ\"),\n",
        "    (\"เครดิตฟ องซิเอร์\",\"เครดิตฟองซิเอร์\"),\n",
        "    (\"ค วาม\",\"ความ\"),\n",
        "    (\"แห ล่ง\",\"แหล่ง\"),\n",
        "    (\"เจ้า พนักงาน\",\"เจ้าพนักงาน\"),\n",
        "    (\"ป ฏิบัติ\",\"ปฏิบัติ\"),\n",
        "    (\"ผู้ล้ม ละลาย\",\"ผู้ล้มละลาย\"),\n",
        "    (\"่เลม\",\"เล่ม\"),\n",
        "    (\"ต้ำบล\",\"ตำบล\"),\n",
        "    (\"้หนา\",\"หน้า\"),\n",
        "    (\"ทำงน้ำ\",\"ทางน้ำ\"),\n",
        "    (\"ค่ำชลประทาน\",\"ค่าชลประทาน\"),\n",
        "    (\"ทำงน้ำชลประทาน\",\"ทางน้ำชลประทาน\"),\n",
        "    (\"ท ั ้ง\",\"ทั้ง\"),\n",
        "    (\"จ านวน\",\"จำนวน\")\n",
        "]"
      ],
      "metadata": {
        "id": "40R6i23_aGJw"
      },
      "execution_count": null,
      "outputs": []
    },
    {
      "cell_type": "code",
      "source": [
        "# -*- coding: utf-8 -*-\n",
        "\"\"\"\n",
        "Copyright 2023 Wannaphong Phatthiyaphaibun\n",
        "\n",
        "Licensed under the Apache License, Version 2.0 (the \"License\");\n",
        "you may not use this file except in compliance with the License.\n",
        "You may obtain a copy of the License at\n",
        "\n",
        "    http://www.apache.org/licenses/LICENSE-2.0\n",
        "\n",
        "Unless required by applicable law or agreed to in writing, software\n",
        "distributed under the License is distributed on an \"AS IS\" BASIS,\n",
        "WITHOUT WARRANTIES OR CONDITIONS OF ANY KIND, either express or implied.\n",
        "See the License for the specific language governing permissions and\n",
        "limitations under the License.\n",
        "\"\"\"\n",
        "replace_list_after_clean=[\n",
        "    (\"ท ั ้ง\",\"ทั้ง\"),\n",
        "    (\"จ านวน\",\"จำนวน\"),\n",
        "    ('ท� า',\"ทำ\"),\n",
        "    (\"ประจ�า\",\"ประจำ\"),\n",
        "    (\"จ�านวน\",\"จำนวน\"),\n",
        "    (\"�า\",\"ำ\"),\n",
        "    (\"สม�่าเสมอ\",\"สม่ำเสมอ\")\n",
        "]"
      ],
      "metadata": {
        "id": "8yEqvq78aKAQ"
      },
      "execution_count": null,
      "outputs": []
    },
    {
      "cell_type": "code",
      "source": [
        "# -*- coding: utf-8 -*-\n",
        "\"\"\"\n",
        "Copyright 2023 Wannaphong Phatthiyaphaibun\n",
        "\n",
        "Licensed under the Apache License, Version 2.0 (the \"License\");\n",
        "you may not use this file except in compliance with the License.\n",
        "You may obtain a copy of the License at\n",
        "\n",
        "    http://www.apache.org/licenses/LICENSE-2.0\n",
        "\n",
        "Unless required by applicable law or agreed to in writing, software\n",
        "distributed under the License is distributed on an \"AS IS\" BASIS,\n",
        "WITHOUT WARRANTIES OR CONDITIONS OF ANY KIND, either express or implied.\n",
        "See the License for the specific language governing permissions and\n",
        "limitations under the License.\n",
        "\"\"\"\n",
        "from pythainlp.util import normalize\n",
        "from pythainlp import thai_lead_vowels,thai_digits,thai_below_vowels,thai_above_vowels,thai_follow_vowels,thai_characters,thai_tonemarks,thai_consonants\n",
        "from pythainlp.corpus import thai_words\n",
        "from pythainlp.tokenize import Tokenizer,Trie\n",
        "import re\n",
        "# from fixthaipdf.dict import replace_list\n",
        "# from fixthaipdf.more_dict import replace_list_after_clean\n",
        "\n",
        "replace_list+=[(i.replace(\"า\",\"ำ\"),i) for i in list(thai_words()) if \"า\" in i]\n",
        "replace_list+=[(i.replace(\"ำ\",\"า\"),i) for i in list(thai_words()) if \"ำ\" in i]\n",
        "# replace_list+=[(i.replace(\"ำ\",\"้ำ\"),i) for i in list(thai_words()) if \"ำ\" in i]\n",
        "\n",
        "d={i:j for i,j in replace_list}\n",
        "_list_d=set(d.keys())\n",
        "not_change=set([\"ทำ\",\"กระทำ\"])\n",
        "\n",
        "def replace_w(w):\n",
        "    if w in _list_d and w not in not_change:\n",
        "        return d[w]\n",
        "    return w\n",
        "\n",
        "word_list = list(thai_words())+[i for i,_ in replace_list]+[i for _,i in replace_list]\n",
        "trie_word = Trie(word_list)\n",
        "tokenizer=Tokenizer(trie_word)\n",
        "thai_characters_without_dig = ''.join([i for i in thai_characters if i not in thai_digits])\n",
        "\n",
        "\n",
        "replace_list_after_clean_key = set([i for i,_ in replace_list_after_clean])\n",
        "d2={i:j for i,j in replace_list_after_clean}\n",
        "word_list_2 = list(thai_words())+[i for i,_ in replace_list_after_clean]\n",
        "trie_word_2 = Trie(word_list_2)\n",
        "tokenizer2=Tokenizer(trie_word_2,engine=\"mm\")\n",
        "\n",
        "def _clean_missing_1(text):\n",
        "    text = text.replace(\"\\uf70a\",\"่\") # ไม้เอก\n",
        "    text = text.replace(\"\\uf70b\",\"้\") # ไม้โท\n",
        "    text = text.replace(\"\\uf70c\",\"๊\") # ไม้ตรี\n",
        "    text = text.replace(\"\\uf70e\",\"์\") #\n",
        "    text = text.replace(\"\\uf710\",\"้\")\n",
        "    text = text.replace(\"\\uf712\",\"็\")\n",
        "    text = text.replace(\"\\uf705\",\"๋\")\n",
        "    text = text.replace(\"\\xa0\",\"\\n\")\n",
        "    text = text.replace(\"\",\"ิ\")\n",
        "    text = text.replace(\"\",\"ี\")\n",
        "    text = text.replace(\"\",\"ื\")\n",
        "    text = text.replace(\"\",\"์\")\n",
        "    text = \"\".join([replace_w(w) for w in tokenizer.word_tokenize(text)])\n",
        "    text = re.sub(f\"([{thai_lead_vowels}])[ \\t]\",\"\\\\1\", text)\n",
        "    text = re.sub(f\"[ \\t]([{thai_above_vowels}])\",\"\\\\1\", text)\n",
        "    text = re.sub(f\"[ \\t]([{thai_follow_vowels}])\",\"\\\\1\", text)\n",
        "    text = re.sub(f\"[ำ]([{thai_above_vowels}])\",\"\\\\1ำ\", text)\n",
        "    text = re.sub(f\"([{thai_above_vowels}])[ \\t]([{thai_consonants}])\",\"\\\\1\\\\2\", text)\n",
        "    text = re.sub(f\"([{thai_characters}])[ \\t]([{thai_below_vowels}])\",\"\\\\1\\\\2\", text)\n",
        "    text = \"\".join([replace_w(w) for w in tokenizer.word_tokenize(text)])\n",
        "    text = re.sub(f\"([{thai_tonemarks}])[ \\t]+([{thai_consonants}])\",\"\\\\1\\\\2\", text) # thai_below_vowels\n",
        "    text = re.sub(f\"([{thai_characters}])[ \\t]+([{thai_tonemarks}])\",\"\\\\1\\\\2\", text)\n",
        "    text = text.replace(\" )\",\")\")\n",
        "    text = text.replace(\"( \",\"(\")\n",
        "    text = text.replace(\" ”\",\"”\")\n",
        "    text = text.replace(\"“ \",\"“\")\n",
        "    text = text.replace(\" ์\",\"์\")\n",
        "    return normalize(text)\n",
        "\n",
        "\n",
        "def _clean_after_1(text):\n",
        "    _text=[]\n",
        "    for w in tokenizer2.word_tokenize(text):\n",
        "        if w in replace_list_after_clean_key:\n",
        "            _text.append(d2[w])\n",
        "        else:\n",
        "            _text.append(w)\n",
        "    return ''.join(_text)\n",
        "\n",
        "def clean(text: str)->str:\n",
        "    text = _clean_missing_1(text)\n",
        "    text = _clean_after_1(text)\n",
        "    return text"
      ],
      "metadata": {
        "id": "hDJWOH3yaMEo"
      },
      "execution_count": null,
      "outputs": []
    },
    {
      "cell_type": "code",
      "source": [],
      "metadata": {
        "id": "GxNPn-gtaRl8"
      },
      "execution_count": null,
      "outputs": []
    },
    {
      "cell_type": "markdown",
      "source": [
        "#pymupdf"
      ],
      "metadata": {
        "id": "dvyX2w8WaUkw"
      }
    },
    {
      "cell_type": "code",
      "source": [
        "import fitz\n",
        "\n",
        "pdf_file_path = \"/content/scanned.pdf\"\n",
        "doc = fitz.open(pdf_file_path)\n",
        "for page in doc:\n",
        "    text = page.get_text()\n",
        "    text_clean = clean(page.get_text())\n",
        "    # print(text)\n",
        "    # print(\"----------------------------\")\n",
        "    print(text_clean)\n"
      ],
      "metadata": {
        "colab": {
          "base_uri": "https://localhost:8080/"
        },
        "id": "y8AF0u-HS6zM",
        "outputId": "1393bd53-27ed-4660-eee4-a3e65060b486"
      },
      "execution_count": null,
      "outputs": [
        {
          "output_type": "stream",
          "name": "stdout",
          "text": [
            "\n"
          ]
        }
      ]
    },
    {
      "cell_type": "markdown",
      "source": [
        "#tesseract"
      ],
      "metadata": {
        "id": "5epHWoUxaRdi"
      }
    },
    {
      "cell_type": "code",
      "source": [
        "!sudo apt-get install tesseract-ocr-tha"
      ],
      "metadata": {
        "id": "3nME3Oc8t-XT"
      },
      "execution_count": null,
      "outputs": []
    },
    {
      "cell_type": "code",
      "source": [
        "!tesseract"
      ],
      "metadata": {
        "colab": {
          "base_uri": "https://localhost:8080/"
        },
        "id": "itissQ1muIyf",
        "outputId": "5d55833a-2693-4a3e-806c-c1ac194267cc"
      },
      "execution_count": null,
      "outputs": [
        {
          "output_type": "stream",
          "name": "stdout",
          "text": [
            "Usage:\n",
            "  tesseract --help | --help-extra | --version\n",
            "  tesseract --list-langs\n",
            "  tesseract imagename outputbase [options...] [configfile...]\n",
            "\n",
            "OCR options:\n",
            "  -l LANG[+LANG]        Specify language(s) used for OCR.\n",
            "NOTE: These options must occur before any configfile.\n",
            "\n",
            "Single options:\n",
            "  --help                Show this help message.\n",
            "  --help-extra          Show extra help for advanced users.\n",
            "  --version             Show version information.\n",
            "  --list-langs          List available languages for tesseract engine.\n"
          ]
        }
      ]
    },
    {
      "cell_type": "code",
      "source": [
        "!tesseract --version"
      ],
      "metadata": {
        "colab": {
          "base_uri": "https://localhost:8080/"
        },
        "id": "urd5oipmuMpo",
        "outputId": "2b890fbc-a04c-46b6-eabd-a410f3e69131"
      },
      "execution_count": null,
      "outputs": [
        {
          "output_type": "stream",
          "name": "stdout",
          "text": [
            "tesseract 4.1.1\n",
            " leptonica-1.82.0\n",
            "  libgif 5.1.9 : libjpeg 8d (libjpeg-turbo 2.1.1) : libpng 1.6.37 : libtiff 4.3.0 : zlib 1.2.11 : libwebp 1.2.2 : libopenjp2 2.4.0\n",
            " Found AVX2\n",
            " Found AVX\n",
            " Found FMA\n",
            " Found SSE\n",
            " Found libarchive 3.6.0 zlib/1.2.11 liblzma/5.2.5 bz2lib/1.0.8 liblz4/1.9.3 libzstd/1.4.8\n"
          ]
        }
      ]
    },
    {
      "cell_type": "code",
      "source": [
        "!tesseract --list-langs"
      ],
      "metadata": {
        "colab": {
          "base_uri": "https://localhost:8080/"
        },
        "id": "I-s2ggr3uPx0",
        "outputId": "18123344-c235-400a-cea9-4455bec842db"
      },
      "execution_count": null,
      "outputs": [
        {
          "output_type": "stream",
          "name": "stdout",
          "text": [
            "List of available languages (3):\n",
            "eng\n",
            "osd\n",
            "tha\n"
          ]
        }
      ]
    },
    {
      "cell_type": "code",
      "source": [
        "import sys\n",
        "import fitz\n",
        "from PIL import Image\n",
        "\n",
        "fname = \"/content/scanned.pdf\"  # get filename from command line\n",
        "doc = fitz.open(fname)  # open document\n",
        "\n",
        "for page in doc:  # iterate through the pages\n",
        "    pix = page.get_pixmap()  # render page to an image\n",
        "    img_file = \"page-%i.png\" % page.number  # dynamically generate filename\n",
        "    pix.save(img_file)  # store image with dynamically generated filename as a PNG\n",
        "    text_of_image = pytesseract.image_to_string(Image.open(img_file), lang='tha').replace(' ', '')\n",
        "    print(text_of_image)"
      ],
      "metadata": {
        "colab": {
          "base_uri": "https://localhost:8080/"
        },
        "id": "fxaYeUR6rNh_",
        "outputId": "6a67f791-4fae-4a90-ce67-daf61dfe5c67"
      },
      "execution_count": null,
      "outputs": [
        {
          "output_type": "stream",
          "name": "stdout",
          "text": [
            "\n",
            "\n",
            "PyMuPDF—thePython\n",
            "bindingsforMuPDF\n",
            "\n",
            "PyMuPDFDocumentation\n",
            "Release1.18.19\n",
            "\n",
            "JorjX.McKie\n",
            "\n",
            "Sep17,2021\n",
            "\f\n"
          ]
        }
      ]
    },
    {
      "cell_type": "code",
      "source": [
        "from PIL import Image\n",
        "image_file = '/content/page-0.png'\n",
        "print(pytesseract.image_to_string(Image.open(image_file), lang='eng').replace(' ', ''))"
      ],
      "metadata": {
        "colab": {
          "base_uri": "https://localhost:8080/"
        },
        "id": "jHnQdOjfwWMQ",
        "outputId": "48dc5e62-e58e-42aa-9e29-8daf04f58b54"
      },
      "execution_count": null,
      "outputs": [
        {
          "output_type": "stream",
          "name": "stdout",
          "text": [
            "\n",
            "\n",
            "PyMuPDF—thePython\n",
            "bindingsforMuPDF\n",
            "\n",
            "PyMuPDFDocumentation\n",
            "Release1.18.19\n",
            "\n",
            "JorjX.McKie\n",
            "\n",
            "Sep17,2021\n",
            "\f\n"
          ]
        }
      ]
    },
    {
      "cell_type": "code",
      "source": [
        "from PIL import Image\n",
        "import pytesseract\n",
        "img_path = '/content/page-0.png'\n",
        "Image.open(img_path)\n",
        "txtImg = Image.open(img_path)\n",
        "text = pytesseract.image_to_string(txtImg, 'eng')\n",
        "text"
      ],
      "metadata": {
        "colab": {
          "base_uri": "https://localhost:8080/",
          "height": 35
        },
        "id": "1UQj0jtItpJD",
        "outputId": "83e82bd3-cc53-4c1f-d597-d8391be7854b"
      },
      "execution_count": null,
      "outputs": [
        {
          "output_type": "execute_result",
          "data": {
            "text/plain": [
              "'\\n\\nPyMuPDF—thePython\\nbindingsforMuPDF\\n\\nPyMuPDFDocumentation\\nRelease1.18.19\\n\\nJorjX.McKie\\n\\nSep17,2021\\n\\x0c'"
            ],
            "application/vnd.google.colaboratory.intrinsic+json": {
              "type": "string"
            }
          },
          "metadata": {},
          "execution_count": 135
        }
      ]
    }
  ]
}
